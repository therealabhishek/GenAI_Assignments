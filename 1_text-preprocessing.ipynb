{
 "cells": [
  {
   "cell_type": "markdown",
   "metadata": {},
   "source": [
    "## Twitter Customer Support Data:\n",
    "\n",
    "#### We have twitter customer support data, our task is to perform various text preprocessing techniques\n",
    "\n",
    "#### We shall perform the below mentioned text preprocessing steps\n",
    "\n",
    "- converting data to lower case\n",
    "- removing punctuation marks\n",
    "- removing stopwords\n",
    "- remove urls\n",
    "- remove html tags\n",
    "- Emoji handling\n",
    "- stemming\n",
    "- lemmatization\n",
    "\n",
    "#### Apart from the above mentioned steps we shall perform other pre processing steps if required\n"
   ]
  },
  {
   "cell_type": "code",
   "execution_count": 1,
   "metadata": {},
   "outputs": [
    {
     "name": "stderr",
     "output_type": "stream",
     "text": [
      "C:\\Users\\DELL\\AppData\\Local\\Temp\\ipykernel_7016\\3281421150.py:4: DeprecationWarning: \n",
      "Pyarrow will become a required dependency of pandas in the next major release of pandas (pandas 3.0),\n",
      "(to allow more performant data types, such as the Arrow string type, and better interoperability with other libraries)\n",
      "but was not found to be installed on your system.\n",
      "If this would cause problems for you,\n",
      "please provide us feedback at https://github.com/pandas-dev/pandas/issues/54466\n",
      "        \n",
      "  import pandas as pd\n"
     ]
    }
   ],
   "source": [
    "#importing the required libraries\n",
    "\n",
    "import numpy as np\n",
    "import pandas as pd\n",
    "import re\n",
    "import nltk\n",
    "import spacy\n",
    "import string"
   ]
  },
  {
   "cell_type": "markdown",
   "metadata": {},
   "source": [
    "- The dataset consists of 1 million + rows, in order to avoid our system getting hanged, we shall import only 10k or 5k rows, whichever performs better."
   ]
  },
  {
   "cell_type": "code",
   "execution_count": 2,
   "metadata": {},
   "outputs": [],
   "source": [
    "# importing the dataset:\n",
    "\n",
    "twitter = pd.read_csv('../GenAI_Assignments/data/twcs.csv', nrows=10000)\n",
    "\n",
    "# as 10,000 rows have easily loaded, we shall continue with 10000 rows"
   ]
  },
  {
   "cell_type": "code",
   "execution_count": 3,
   "metadata": {},
   "outputs": [
    {
     "data": {
      "text/plain": [
       "(10000, 7)"
      ]
     },
     "execution_count": 3,
     "metadata": {},
     "output_type": "execute_result"
    }
   ],
   "source": [
    "# checking the shape of our dataset\n",
    "twitter.shape\n",
    "\n",
    "# we have 10000 rows and 7 columns"
   ]
  },
  {
   "cell_type": "code",
   "execution_count": 4,
   "metadata": {},
   "outputs": [
    {
     "data": {
      "text/html": [
       "<div>\n",
       "<style scoped>\n",
       "    .dataframe tbody tr th:only-of-type {\n",
       "        vertical-align: middle;\n",
       "    }\n",
       "\n",
       "    .dataframe tbody tr th {\n",
       "        vertical-align: top;\n",
       "    }\n",
       "\n",
       "    .dataframe thead th {\n",
       "        text-align: right;\n",
       "    }\n",
       "</style>\n",
       "<table border=\"1\" class=\"dataframe\">\n",
       "  <thead>\n",
       "    <tr style=\"text-align: right;\">\n",
       "      <th></th>\n",
       "      <th>tweet_id</th>\n",
       "      <th>author_id</th>\n",
       "      <th>inbound</th>\n",
       "      <th>created_at</th>\n",
       "      <th>text</th>\n",
       "      <th>response_tweet_id</th>\n",
       "      <th>in_response_to_tweet_id</th>\n",
       "    </tr>\n",
       "  </thead>\n",
       "  <tbody>\n",
       "    <tr>\n",
       "      <th>0</th>\n",
       "      <td>1</td>\n",
       "      <td>sprintcare</td>\n",
       "      <td>False</td>\n",
       "      <td>Tue Oct 31 22:10:47 +0000 2017</td>\n",
       "      <td>@115712 I understand. I would like to assist y...</td>\n",
       "      <td>2</td>\n",
       "      <td>3.0</td>\n",
       "    </tr>\n",
       "    <tr>\n",
       "      <th>1</th>\n",
       "      <td>2</td>\n",
       "      <td>115712</td>\n",
       "      <td>True</td>\n",
       "      <td>Tue Oct 31 22:11:45 +0000 2017</td>\n",
       "      <td>@sprintcare and how do you propose we do that</td>\n",
       "      <td>NaN</td>\n",
       "      <td>1.0</td>\n",
       "    </tr>\n",
       "    <tr>\n",
       "      <th>2</th>\n",
       "      <td>3</td>\n",
       "      <td>115712</td>\n",
       "      <td>True</td>\n",
       "      <td>Tue Oct 31 22:08:27 +0000 2017</td>\n",
       "      <td>@sprintcare I have sent several private messag...</td>\n",
       "      <td>1</td>\n",
       "      <td>4.0</td>\n",
       "    </tr>\n",
       "    <tr>\n",
       "      <th>3</th>\n",
       "      <td>4</td>\n",
       "      <td>sprintcare</td>\n",
       "      <td>False</td>\n",
       "      <td>Tue Oct 31 21:54:49 +0000 2017</td>\n",
       "      <td>@115712 Please send us a Private Message so th...</td>\n",
       "      <td>3</td>\n",
       "      <td>5.0</td>\n",
       "    </tr>\n",
       "    <tr>\n",
       "      <th>4</th>\n",
       "      <td>5</td>\n",
       "      <td>115712</td>\n",
       "      <td>True</td>\n",
       "      <td>Tue Oct 31 21:49:35 +0000 2017</td>\n",
       "      <td>@sprintcare I did.</td>\n",
       "      <td>4</td>\n",
       "      <td>6.0</td>\n",
       "    </tr>\n",
       "    <tr>\n",
       "      <th>5</th>\n",
       "      <td>6</td>\n",
       "      <td>sprintcare</td>\n",
       "      <td>False</td>\n",
       "      <td>Tue Oct 31 21:46:24 +0000 2017</td>\n",
       "      <td>@115712 Can you please send us a private messa...</td>\n",
       "      <td>5,7</td>\n",
       "      <td>8.0</td>\n",
       "    </tr>\n",
       "    <tr>\n",
       "      <th>6</th>\n",
       "      <td>8</td>\n",
       "      <td>115712</td>\n",
       "      <td>True</td>\n",
       "      <td>Tue Oct 31 21:45:10 +0000 2017</td>\n",
       "      <td>@sprintcare is the worst customer service</td>\n",
       "      <td>9,6,10</td>\n",
       "      <td>NaN</td>\n",
       "    </tr>\n",
       "    <tr>\n",
       "      <th>7</th>\n",
       "      <td>11</td>\n",
       "      <td>sprintcare</td>\n",
       "      <td>False</td>\n",
       "      <td>Tue Oct 31 22:10:35 +0000 2017</td>\n",
       "      <td>@115713 This is saddening to hear. Please shoo...</td>\n",
       "      <td>NaN</td>\n",
       "      <td>12.0</td>\n",
       "    </tr>\n",
       "    <tr>\n",
       "      <th>8</th>\n",
       "      <td>12</td>\n",
       "      <td>115713</td>\n",
       "      <td>True</td>\n",
       "      <td>Tue Oct 31 22:04:47 +0000 2017</td>\n",
       "      <td>@sprintcare You gonna magically change your co...</td>\n",
       "      <td>11,13,14</td>\n",
       "      <td>15.0</td>\n",
       "    </tr>\n",
       "    <tr>\n",
       "      <th>9</th>\n",
       "      <td>15</td>\n",
       "      <td>sprintcare</td>\n",
       "      <td>False</td>\n",
       "      <td>Tue Oct 31 20:03:31 +0000 2017</td>\n",
       "      <td>@115713 We understand your concerns and we'd l...</td>\n",
       "      <td>12</td>\n",
       "      <td>16.0</td>\n",
       "    </tr>\n",
       "  </tbody>\n",
       "</table>\n",
       "</div>"
      ],
      "text/plain": [
       "   tweet_id   author_id  inbound                      created_at  \\\n",
       "0         1  sprintcare    False  Tue Oct 31 22:10:47 +0000 2017   \n",
       "1         2      115712     True  Tue Oct 31 22:11:45 +0000 2017   \n",
       "2         3      115712     True  Tue Oct 31 22:08:27 +0000 2017   \n",
       "3         4  sprintcare    False  Tue Oct 31 21:54:49 +0000 2017   \n",
       "4         5      115712     True  Tue Oct 31 21:49:35 +0000 2017   \n",
       "5         6  sprintcare    False  Tue Oct 31 21:46:24 +0000 2017   \n",
       "6         8      115712     True  Tue Oct 31 21:45:10 +0000 2017   \n",
       "7        11  sprintcare    False  Tue Oct 31 22:10:35 +0000 2017   \n",
       "8        12      115713     True  Tue Oct 31 22:04:47 +0000 2017   \n",
       "9        15  sprintcare    False  Tue Oct 31 20:03:31 +0000 2017   \n",
       "\n",
       "                                                text response_tweet_id  \\\n",
       "0  @115712 I understand. I would like to assist y...                 2   \n",
       "1      @sprintcare and how do you propose we do that               NaN   \n",
       "2  @sprintcare I have sent several private messag...                 1   \n",
       "3  @115712 Please send us a Private Message so th...                 3   \n",
       "4                                 @sprintcare I did.                 4   \n",
       "5  @115712 Can you please send us a private messa...               5,7   \n",
       "6          @sprintcare is the worst customer service            9,6,10   \n",
       "7  @115713 This is saddening to hear. Please shoo...               NaN   \n",
       "8  @sprintcare You gonna magically change your co...          11,13,14   \n",
       "9  @115713 We understand your concerns and we'd l...                12   \n",
       "\n",
       "   in_response_to_tweet_id  \n",
       "0                      3.0  \n",
       "1                      1.0  \n",
       "2                      4.0  \n",
       "3                      5.0  \n",
       "4                      6.0  \n",
       "5                      8.0  \n",
       "6                      NaN  \n",
       "7                     12.0  \n",
       "8                     15.0  \n",
       "9                     16.0  "
      ]
     },
     "execution_count": 4,
     "metadata": {},
     "output_type": "execute_result"
    }
   ],
   "source": [
    "# checking the first few and the last few rows of the dataset\n",
    "\n",
    "twitter.head(10)"
   ]
  },
  {
   "cell_type": "code",
   "execution_count": 5,
   "metadata": {},
   "outputs": [
    {
     "data": {
      "text/html": [
       "<div>\n",
       "<style scoped>\n",
       "    .dataframe tbody tr th:only-of-type {\n",
       "        vertical-align: middle;\n",
       "    }\n",
       "\n",
       "    .dataframe tbody tr th {\n",
       "        vertical-align: top;\n",
       "    }\n",
       "\n",
       "    .dataframe thead th {\n",
       "        text-align: right;\n",
       "    }\n",
       "</style>\n",
       "<table border=\"1\" class=\"dataframe\">\n",
       "  <thead>\n",
       "    <tr style=\"text-align: right;\">\n",
       "      <th></th>\n",
       "      <th>tweet_id</th>\n",
       "      <th>author_id</th>\n",
       "      <th>inbound</th>\n",
       "      <th>created_at</th>\n",
       "      <th>text</th>\n",
       "      <th>response_tweet_id</th>\n",
       "      <th>in_response_to_tweet_id</th>\n",
       "    </tr>\n",
       "  </thead>\n",
       "  <tbody>\n",
       "    <tr>\n",
       "      <th>9990</th>\n",
       "      <td>13764</td>\n",
       "      <td>MicrosoftHelps</td>\n",
       "      <td>False</td>\n",
       "      <td>Wed Nov 01 01:53:00 +0000 2017</td>\n",
       "      <td>@118889 Since the password reset didn't work, ...</td>\n",
       "      <td>NaN</td>\n",
       "      <td>13765.0</td>\n",
       "    </tr>\n",
       "    <tr>\n",
       "      <th>9991</th>\n",
       "      <td>13765</td>\n",
       "      <td>118889</td>\n",
       "      <td>True</td>\n",
       "      <td>Tue Oct 31 23:52:11 +0000 2017</td>\n",
       "      <td>@MicrosoftHelps I tried to chat &amp;amp; email su...</td>\n",
       "      <td>13764,13766</td>\n",
       "      <td>13767.0</td>\n",
       "    </tr>\n",
       "    <tr>\n",
       "      <th>9992</th>\n",
       "      <td>13767</td>\n",
       "      <td>MicrosoftHelps</td>\n",
       "      <td>False</td>\n",
       "      <td>Tue Oct 31 18:21:00 +0000 2017</td>\n",
       "      <td>@118889 We got your back, Kyle. Just to clarif...</td>\n",
       "      <td>13768,13765</td>\n",
       "      <td>13769.0</td>\n",
       "    </tr>\n",
       "    <tr>\n",
       "      <th>9993</th>\n",
       "      <td>13769</td>\n",
       "      <td>118889</td>\n",
       "      <td>True</td>\n",
       "      <td>Tue Oct 31 17:10:44 +0000 2017</td>\n",
       "      <td>@MicrosoftHelps I've had ongoing account acces...</td>\n",
       "      <td>13767</td>\n",
       "      <td>NaN</td>\n",
       "    </tr>\n",
       "    <tr>\n",
       "      <th>9994</th>\n",
       "      <td>13770</td>\n",
       "      <td>MicrosoftHelps</td>\n",
       "      <td>False</td>\n",
       "      <td>Wed Nov 01 01:47:00 +0000 2017</td>\n",
       "      <td>@118890 2/2 https://t.co/XCt8AifoxD to get in ...</td>\n",
       "      <td>NaN</td>\n",
       "      <td>13771.0</td>\n",
       "    </tr>\n",
       "    <tr>\n",
       "      <th>9995</th>\n",
       "      <td>13771</td>\n",
       "      <td>118890</td>\n",
       "      <td>True</td>\n",
       "      <td>Tue Oct 31 23:51:30 +0000 2017</td>\n",
       "      <td>@MicrosoftHelps That link just gives me gibber...</td>\n",
       "      <td>13770,13772</td>\n",
       "      <td>13773.0</td>\n",
       "    </tr>\n",
       "    <tr>\n",
       "      <th>9996</th>\n",
       "      <td>13773</td>\n",
       "      <td>MicrosoftHelps</td>\n",
       "      <td>False</td>\n",
       "      <td>Tue Oct 31 07:49:30 +0000 2017</td>\n",
       "      <td>@118890 In that case, kindly contact our Answe...</td>\n",
       "      <td>13771</td>\n",
       "      <td>13774.0</td>\n",
       "    </tr>\n",
       "    <tr>\n",
       "      <th>9997</th>\n",
       "      <td>13774</td>\n",
       "      <td>118890</td>\n",
       "      <td>True</td>\n",
       "      <td>Tue Oct 31 05:49:07 +0000 2017</td>\n",
       "      <td>@MicrosoftHelps Has any other Windows 10 user ...</td>\n",
       "      <td>13773</td>\n",
       "      <td>13775.0</td>\n",
       "    </tr>\n",
       "    <tr>\n",
       "      <th>9998</th>\n",
       "      <td>13775</td>\n",
       "      <td>MicrosoftHelps</td>\n",
       "      <td>False</td>\n",
       "      <td>Tue Oct 31 02:43:52 +0000 2017</td>\n",
       "      <td>@118890 1/2 Your Internet Service Provider can...</td>\n",
       "      <td>13776,13777,13774</td>\n",
       "      <td>13778.0</td>\n",
       "    </tr>\n",
       "    <tr>\n",
       "      <th>9999</th>\n",
       "      <td>13778</td>\n",
       "      <td>118890</td>\n",
       "      <td>True</td>\n",
       "      <td>Mon Oct 30 23:13:58 +0000 2017</td>\n",
       "      <td>@MicrosoftHelps What can my dialup service pro...</td>\n",
       "      <td>13775,13779</td>\n",
       "      <td>13780.0</td>\n",
       "    </tr>\n",
       "  </tbody>\n",
       "</table>\n",
       "</div>"
      ],
      "text/plain": [
       "      tweet_id       author_id  inbound                      created_at  \\\n",
       "9990     13764  MicrosoftHelps    False  Wed Nov 01 01:53:00 +0000 2017   \n",
       "9991     13765          118889     True  Tue Oct 31 23:52:11 +0000 2017   \n",
       "9992     13767  MicrosoftHelps    False  Tue Oct 31 18:21:00 +0000 2017   \n",
       "9993     13769          118889     True  Tue Oct 31 17:10:44 +0000 2017   \n",
       "9994     13770  MicrosoftHelps    False  Wed Nov 01 01:47:00 +0000 2017   \n",
       "9995     13771          118890     True  Tue Oct 31 23:51:30 +0000 2017   \n",
       "9996     13773  MicrosoftHelps    False  Tue Oct 31 07:49:30 +0000 2017   \n",
       "9997     13774          118890     True  Tue Oct 31 05:49:07 +0000 2017   \n",
       "9998     13775  MicrosoftHelps    False  Tue Oct 31 02:43:52 +0000 2017   \n",
       "9999     13778          118890     True  Mon Oct 30 23:13:58 +0000 2017   \n",
       "\n",
       "                                                   text  response_tweet_id  \\\n",
       "9990  @118889 Since the password reset didn't work, ...                NaN   \n",
       "9991  @MicrosoftHelps I tried to chat &amp; email su...        13764,13766   \n",
       "9992  @118889 We got your back, Kyle. Just to clarif...        13768,13765   \n",
       "9993  @MicrosoftHelps I've had ongoing account acces...              13767   \n",
       "9994  @118890 2/2 https://t.co/XCt8AifoxD to get in ...                NaN   \n",
       "9995  @MicrosoftHelps That link just gives me gibber...        13770,13772   \n",
       "9996  @118890 In that case, kindly contact our Answe...              13771   \n",
       "9997  @MicrosoftHelps Has any other Windows 10 user ...              13773   \n",
       "9998  @118890 1/2 Your Internet Service Provider can...  13776,13777,13774   \n",
       "9999  @MicrosoftHelps What can my dialup service pro...        13775,13779   \n",
       "\n",
       "      in_response_to_tweet_id  \n",
       "9990                  13765.0  \n",
       "9991                  13767.0  \n",
       "9992                  13769.0  \n",
       "9993                      NaN  \n",
       "9994                  13771.0  \n",
       "9995                  13773.0  \n",
       "9996                  13774.0  \n",
       "9997                  13775.0  \n",
       "9998                  13778.0  \n",
       "9999                  13780.0  "
      ]
     },
     "execution_count": 5,
     "metadata": {},
     "output_type": "execute_result"
    }
   ],
   "source": [
    "twitter.tail(10)"
   ]
  },
  {
   "cell_type": "code",
   "execution_count": 6,
   "metadata": {},
   "outputs": [
    {
     "data": {
      "text/plain": [
       "tweet_id                     int64\n",
       "author_id                   object\n",
       "inbound                       bool\n",
       "created_at                  object\n",
       "text                        object\n",
       "response_tweet_id           object\n",
       "in_response_to_tweet_id    float64\n",
       "dtype: object"
      ]
     },
     "execution_count": 6,
     "metadata": {},
     "output_type": "execute_result"
    }
   ],
   "source": [
    "# let us check the data type of columns\n",
    "\n",
    "twitter.dtypes"
   ]
  },
  {
   "cell_type": "code",
   "execution_count": 7,
   "metadata": {},
   "outputs": [
    {
     "name": "stdout",
     "output_type": "stream",
     "text": [
      "<class 'pandas.core.frame.DataFrame'>\n",
      "RangeIndex: 10000 entries, 0 to 9999\n",
      "Data columns (total 7 columns):\n",
      " #   Column                   Non-Null Count  Dtype  \n",
      "---  ------                   --------------  -----  \n",
      " 0   tweet_id                 10000 non-null  int64  \n",
      " 1   author_id                10000 non-null  object \n",
      " 2   inbound                  10000 non-null  bool   \n",
      " 3   created_at               10000 non-null  object \n",
      " 4   text                     10000 non-null  object \n",
      " 5   response_tweet_id        6719 non-null   object \n",
      " 6   in_response_to_tweet_id  7269 non-null   float64\n",
      "dtypes: bool(1), float64(1), int64(1), object(4)\n",
      "memory usage: 478.6+ KB\n"
     ]
    }
   ],
   "source": [
    "# checking more infor about our data\n",
    "\n",
    "twitter.info()\n",
    "\n",
    "# 'text' columns which is of our interest has no missing data."
   ]
  },
  {
   "cell_type": "markdown",
   "metadata": {},
   "source": [
    "- We have completed some housekeeping basics.\n",
    "\n",
    "- Now let us go to the column of our interest which is the 'text' column.\n",
    "\n",
    "- The 'text' column is of the 'object' datatype, we need to convert it to 'str' data type."
   ]
  },
  {
   "cell_type": "code",
   "execution_count": 8,
   "metadata": {},
   "outputs": [
    {
     "data": {
      "text/plain": [
       "0    @115712 I understand. I would like to assist y...\n",
       "1        @sprintcare and how do you propose we do that\n",
       "2    @sprintcare I have sent several private messag...\n",
       "3    @115712 Please send us a Private Message so th...\n",
       "4                                   @sprintcare I did.\n",
       "5    @115712 Can you please send us a private messa...\n",
       "6            @sprintcare is the worst customer service\n",
       "7    @115713 This is saddening to hear. Please shoo...\n",
       "8    @sprintcare You gonna magically change your co...\n",
       "9    @115713 We understand your concerns and we'd l...\n",
       "Name: text, dtype: object"
      ]
     },
     "execution_count": 8,
     "metadata": {},
     "output_type": "execute_result"
    }
   ],
   "source": [
    "# checking 'text' column\n",
    "\n",
    "twitter['text'].head(10)"
   ]
  },
  {
   "cell_type": "code",
   "execution_count": 9,
   "metadata": {},
   "outputs": [
    {
     "data": {
      "text/plain": [
       "9990    @118889 Since the password reset didn't work, ...\n",
       "9991    @MicrosoftHelps I tried to chat &amp; email su...\n",
       "9992    @118889 We got your back, Kyle. Just to clarif...\n",
       "9993    @MicrosoftHelps I've had ongoing account acces...\n",
       "9994    @118890 2/2 https://t.co/XCt8AifoxD to get in ...\n",
       "9995    @MicrosoftHelps That link just gives me gibber...\n",
       "9996    @118890 In that case, kindly contact our Answe...\n",
       "9997    @MicrosoftHelps Has any other Windows 10 user ...\n",
       "9998    @118890 1/2 Your Internet Service Provider can...\n",
       "9999    @MicrosoftHelps What can my dialup service pro...\n",
       "Name: text, dtype: object"
      ]
     },
     "execution_count": 9,
     "metadata": {},
     "output_type": "execute_result"
    }
   ],
   "source": [
    "twitter['text'].tail(10)"
   ]
  },
  {
   "cell_type": "markdown",
   "metadata": {},
   "source": [
    "- We can observe that the data contains symbols, punctuations, urls etc.\n",
    "\n",
    "- We will clean them."
   ]
  },
  {
   "cell_type": "code",
   "execution_count": 10,
   "metadata": {},
   "outputs": [],
   "source": [
    "# converting 'text' column to 'string' dtype from 'object'\n",
    "\n",
    "twitter['text'] = twitter['text'].astype(\"string\")"
   ]
  },
  {
   "cell_type": "code",
   "execution_count": 11,
   "metadata": {},
   "outputs": [
    {
     "data": {
      "text/plain": [
       "string[python]"
      ]
     },
     "execution_count": 11,
     "metadata": {},
     "output_type": "execute_result"
    }
   ],
   "source": [
    "# checking if \n",
    "\n",
    "twitter['text'].dtype"
   ]
  },
  {
   "cell_type": "code",
   "execution_count": 12,
   "metadata": {},
   "outputs": [],
   "source": [
    "# separating the 'text' column\n",
    "\n",
    "twdf = twitter[[\"text\"]]"
   ]
  },
  {
   "cell_type": "code",
   "execution_count": 13,
   "metadata": {},
   "outputs": [
    {
     "data": {
      "text/plain": [
       "string[python]"
      ]
     },
     "execution_count": 13,
     "metadata": {},
     "output_type": "execute_result"
    }
   ],
   "source": [
    "# cross-checking the dtype of text column of new dataframe.\n",
    "\n",
    "twdf['text'].dtype"
   ]
  },
  {
   "cell_type": "markdown",
   "metadata": {},
   "source": [
    "## Text Preprocessing"
   ]
  },
  {
   "cell_type": "markdown",
   "metadata": {},
   "source": [
    "### Lower Casing"
   ]
  },
  {
   "cell_type": "code",
   "execution_count": 14,
   "metadata": {},
   "outputs": [],
   "source": [
    "import warnings\n",
    "warnings.filterwarnings('ignore')"
   ]
  },
  {
   "cell_type": "code",
   "execution_count": 15,
   "metadata": {},
   "outputs": [
    {
     "data": {
      "text/plain": [
       "0    @115712 i understand. i would like to assist y...\n",
       "1        @sprintcare and how do you propose we do that\n",
       "2    @sprintcare i have sent several private messag...\n",
       "3    @115712 please send us a private message so th...\n",
       "4                                   @sprintcare i did.\n",
       "Name: text, dtype: string"
      ]
     },
     "execution_count": 15,
     "metadata": {},
     "output_type": "execute_result"
    }
   ],
   "source": [
    "# \n",
    "\n",
    "twdf['text'] = twdf['text'].str.lower()\n",
    "twdf['text'].head(5)\n",
    "\n",
    "# text has been conducted to lower case"
   ]
  },
  {
   "cell_type": "markdown",
   "metadata": {},
   "source": [
    "### Punctuation Marks"
   ]
  },
  {
   "cell_type": "code",
   "execution_count": 16,
   "metadata": {},
   "outputs": [],
   "source": [
    "# creating a variable to exclude punctuation marks\n",
    "\n",
    "exclude = string.punctuation"
   ]
  },
  {
   "cell_type": "code",
   "execution_count": 17,
   "metadata": {},
   "outputs": [],
   "source": [
    "# creating a function to remove the punctuation marks\n",
    "\n",
    "def remove_punctuation(text):\n",
    "    for char in exclude:\n",
    "        text = text.replace(char,\"\")\n",
    "    return text"
   ]
  },
  {
   "cell_type": "code",
   "execution_count": 18,
   "metadata": {},
   "outputs": [],
   "source": [
    "twdf['text'] = twdf['text'].apply(remove_punctuation)"
   ]
  },
  {
   "cell_type": "code",
   "execution_count": 19,
   "metadata": {},
   "outputs": [
    {
     "data": {
      "text/plain": [
       "'115712 i understand i would like to assist you we would need to get you into a private secured link to further assist'"
      ]
     },
     "execution_count": 19,
     "metadata": {},
     "output_type": "execute_result"
    }
   ],
   "source": [
    "twdf['text'][0]"
   ]
  },
  {
   "cell_type": "code",
   "execution_count": 20,
   "metadata": {},
   "outputs": [
    {
     "data": {
      "text/plain": [
       "'sprintcare i have sent several private messages and no one is responding as usual'"
      ]
     },
     "execution_count": 20,
     "metadata": {},
     "output_type": "execute_result"
    }
   ],
   "source": [
    "twdf['text'][2]"
   ]
  },
  {
   "cell_type": "markdown",
   "metadata": {},
   "source": [
    "- the punctuation marks have been removed."
   ]
  },
  {
   "cell_type": "markdown",
   "metadata": {},
   "source": [
    "### Removing html tags"
   ]
  },
  {
   "cell_type": "code",
   "execution_count": 21,
   "metadata": {},
   "outputs": [],
   "source": [
    "def remove_html_tags(text):\n",
    "    pattern =  re.compile('<.*?>')\n",
    "    return pattern.sub(\"\",text)"
   ]
  },
  {
   "cell_type": "code",
   "execution_count": 22,
   "metadata": {},
   "outputs": [],
   "source": [
    "twdf['text'] = twdf['text'].apply(remove_html_tags)\n",
    "\n",
    "#html tags have been removed"
   ]
  },
  {
   "cell_type": "markdown",
   "metadata": {},
   "source": [
    "### Removing urls"
   ]
  },
  {
   "cell_type": "code",
   "execution_count": 23,
   "metadata": {},
   "outputs": [],
   "source": [
    "def remove_url(text):\n",
    "    pattern = re.compile(r'https?://\\S+|www\\.\\S+')\n",
    "    return pattern.sub(r'', text)"
   ]
  },
  {
   "cell_type": "code",
   "execution_count": 24,
   "metadata": {},
   "outputs": [],
   "source": [
    "twdf['text'] = twdf['text'].apply(remove_url)"
   ]
  },
  {
   "cell_type": "code",
   "execution_count": 25,
   "metadata": {},
   "outputs": [
    {
     "data": {
      "text/html": [
       "<div>\n",
       "<style scoped>\n",
       "    .dataframe tbody tr th:only-of-type {\n",
       "        vertical-align: middle;\n",
       "    }\n",
       "\n",
       "    .dataframe tbody tr th {\n",
       "        vertical-align: top;\n",
       "    }\n",
       "\n",
       "    .dataframe thead th {\n",
       "        text-align: right;\n",
       "    }\n",
       "</style>\n",
       "<table border=\"1\" class=\"dataframe\">\n",
       "  <thead>\n",
       "    <tr style=\"text-align: right;\">\n",
       "      <th></th>\n",
       "      <th>text</th>\n",
       "    </tr>\n",
       "  </thead>\n",
       "  <tbody>\n",
       "    <tr>\n",
       "      <th>9990</th>\n",
       "      <td>118889 since the password reset didnt work let...</td>\n",
       "    </tr>\n",
       "    <tr>\n",
       "      <th>9991</th>\n",
       "      <td>microsofthelps i tried to chat amp email suppo...</td>\n",
       "    </tr>\n",
       "    <tr>\n",
       "      <th>9992</th>\n",
       "      <td>118889 we got your back kyle just to clarify a...</td>\n",
       "    </tr>\n",
       "    <tr>\n",
       "      <th>9993</th>\n",
       "      <td>microsofthelps ive had ongoing account access ...</td>\n",
       "    </tr>\n",
       "    <tr>\n",
       "      <th>9994</th>\n",
       "      <td>118890 22 httpstcoxct8aifoxd to get in touch w...</td>\n",
       "    </tr>\n",
       "    <tr>\n",
       "      <th>9995</th>\n",
       "      <td>microsofthelps that link just gives me gibberi...</td>\n",
       "    </tr>\n",
       "    <tr>\n",
       "      <th>9996</th>\n",
       "      <td>118890 in that case kindly contact our answer ...</td>\n",
       "    </tr>\n",
       "    <tr>\n",
       "      <th>9997</th>\n",
       "      <td>microsofthelps has any other windows 10 user n...</td>\n",
       "    </tr>\n",
       "    <tr>\n",
       "      <th>9998</th>\n",
       "      <td>118890 12 your internet service provider can c...</td>\n",
       "    </tr>\n",
       "    <tr>\n",
       "      <th>9999</th>\n",
       "      <td>microsofthelps what can my dialup service prov...</td>\n",
       "    </tr>\n",
       "  </tbody>\n",
       "</table>\n",
       "</div>"
      ],
      "text/plain": [
       "                                                   text\n",
       "9990  118889 since the password reset didnt work let...\n",
       "9991  microsofthelps i tried to chat amp email suppo...\n",
       "9992  118889 we got your back kyle just to clarify a...\n",
       "9993  microsofthelps ive had ongoing account access ...\n",
       "9994  118890 22 httpstcoxct8aifoxd to get in touch w...\n",
       "9995  microsofthelps that link just gives me gibberi...\n",
       "9996  118890 in that case kindly contact our answer ...\n",
       "9997  microsofthelps has any other windows 10 user n...\n",
       "9998  118890 12 your internet service provider can c...\n",
       "9999  microsofthelps what can my dialup service prov..."
      ]
     },
     "execution_count": 25,
     "metadata": {},
     "output_type": "execute_result"
    }
   ],
   "source": [
    "twdf.tail(10)\n",
    "\n",
    "# we can see that the url has been removed"
   ]
  },
  {
   "cell_type": "markdown",
   "metadata": {},
   "source": [
    "### Removing Stopwords"
   ]
  },
  {
   "cell_type": "code",
   "execution_count": 26,
   "metadata": {},
   "outputs": [
    {
     "name": "stderr",
     "output_type": "stream",
     "text": [
      "[nltk_data] Downloading package stopwords to\n",
      "[nltk_data]     C:\\Users\\DELL\\AppData\\Roaming\\nltk_data...\n",
      "[nltk_data]   Package stopwords is already up-to-date!\n"
     ]
    },
    {
     "data": {
      "text/plain": [
       "True"
      ]
     },
     "execution_count": 26,
     "metadata": {},
     "output_type": "execute_result"
    }
   ],
   "source": [
    "\n",
    "from nltk.corpus import stopwords\n",
    "nltk.download('stopwords')"
   ]
  },
  {
   "cell_type": "code",
   "execution_count": 27,
   "metadata": {},
   "outputs": [
    {
     "data": {
      "text/plain": [
       "['i',\n",
       " 'me',\n",
       " 'my',\n",
       " 'myself',\n",
       " 'we',\n",
       " 'our',\n",
       " 'ours',\n",
       " 'ourselves',\n",
       " 'you',\n",
       " \"you're\",\n",
       " \"you've\",\n",
       " \"you'll\",\n",
       " \"you'd\",\n",
       " 'your',\n",
       " 'yours',\n",
       " 'yourself',\n",
       " 'yourselves',\n",
       " 'he',\n",
       " 'him',\n",
       " 'his',\n",
       " 'himself',\n",
       " 'she',\n",
       " \"she's\",\n",
       " 'her',\n",
       " 'hers',\n",
       " 'herself',\n",
       " 'it',\n",
       " \"it's\",\n",
       " 'its',\n",
       " 'itself',\n",
       " 'they',\n",
       " 'them',\n",
       " 'their',\n",
       " 'theirs',\n",
       " 'themselves',\n",
       " 'what',\n",
       " 'which',\n",
       " 'who',\n",
       " 'whom',\n",
       " 'this',\n",
       " 'that',\n",
       " \"that'll\",\n",
       " 'these',\n",
       " 'those',\n",
       " 'am',\n",
       " 'is',\n",
       " 'are',\n",
       " 'was',\n",
       " 'were',\n",
       " 'be',\n",
       " 'been',\n",
       " 'being',\n",
       " 'have',\n",
       " 'has',\n",
       " 'had',\n",
       " 'having',\n",
       " 'do',\n",
       " 'does',\n",
       " 'did',\n",
       " 'doing',\n",
       " 'a',\n",
       " 'an',\n",
       " 'the',\n",
       " 'and',\n",
       " 'but',\n",
       " 'if',\n",
       " 'or',\n",
       " 'because',\n",
       " 'as',\n",
       " 'until',\n",
       " 'while',\n",
       " 'of',\n",
       " 'at',\n",
       " 'by',\n",
       " 'for',\n",
       " 'with',\n",
       " 'about',\n",
       " 'against',\n",
       " 'between',\n",
       " 'into',\n",
       " 'through',\n",
       " 'during',\n",
       " 'before',\n",
       " 'after',\n",
       " 'above',\n",
       " 'below',\n",
       " 'to',\n",
       " 'from',\n",
       " 'up',\n",
       " 'down',\n",
       " 'in',\n",
       " 'out',\n",
       " 'on',\n",
       " 'off',\n",
       " 'over',\n",
       " 'under',\n",
       " 'again',\n",
       " 'further',\n",
       " 'then',\n",
       " 'once',\n",
       " 'here',\n",
       " 'there',\n",
       " 'when',\n",
       " 'where',\n",
       " 'why',\n",
       " 'how',\n",
       " 'all',\n",
       " 'any',\n",
       " 'both',\n",
       " 'each',\n",
       " 'few',\n",
       " 'more',\n",
       " 'most',\n",
       " 'other',\n",
       " 'some',\n",
       " 'such',\n",
       " 'no',\n",
       " 'nor',\n",
       " 'not',\n",
       " 'only',\n",
       " 'own',\n",
       " 'same',\n",
       " 'so',\n",
       " 'than',\n",
       " 'too',\n",
       " 'very',\n",
       " 's',\n",
       " 't',\n",
       " 'can',\n",
       " 'will',\n",
       " 'just',\n",
       " 'don',\n",
       " \"don't\",\n",
       " 'should',\n",
       " \"should've\",\n",
       " 'now',\n",
       " 'd',\n",
       " 'll',\n",
       " 'm',\n",
       " 'o',\n",
       " 're',\n",
       " 've',\n",
       " 'y',\n",
       " 'ain',\n",
       " 'aren',\n",
       " \"aren't\",\n",
       " 'couldn',\n",
       " \"couldn't\",\n",
       " 'didn',\n",
       " \"didn't\",\n",
       " 'doesn',\n",
       " \"doesn't\",\n",
       " 'hadn',\n",
       " \"hadn't\",\n",
       " 'hasn',\n",
       " \"hasn't\",\n",
       " 'haven',\n",
       " \"haven't\",\n",
       " 'isn',\n",
       " \"isn't\",\n",
       " 'ma',\n",
       " 'mightn',\n",
       " \"mightn't\",\n",
       " 'mustn',\n",
       " \"mustn't\",\n",
       " 'needn',\n",
       " \"needn't\",\n",
       " 'shan',\n",
       " \"shan't\",\n",
       " 'shouldn',\n",
       " \"shouldn't\",\n",
       " 'wasn',\n",
       " \"wasn't\",\n",
       " 'weren',\n",
       " \"weren't\",\n",
       " 'won',\n",
       " \"won't\",\n",
       " 'wouldn',\n",
       " \"wouldn't\"]"
      ]
     },
     "execution_count": 27,
     "metadata": {},
     "output_type": "execute_result"
    }
   ],
   "source": [
    "stopwords.words('english')"
   ]
  },
  {
   "cell_type": "code",
   "execution_count": 28,
   "metadata": {},
   "outputs": [],
   "source": [
    "STOPWORDS = set(stopwords.words('english'))\n",
    "\n",
    "def remove_stopwords(text):\n",
    "    return \" \".join([word for word in str(text).split() if word not in STOPWORDS])"
   ]
  },
  {
   "cell_type": "code",
   "execution_count": 29,
   "metadata": {},
   "outputs": [],
   "source": [
    "twdf['text'] = twdf['text'].apply(remove_stopwords)"
   ]
  },
  {
   "cell_type": "code",
   "execution_count": 30,
   "metadata": {},
   "outputs": [
    {
     "data": {
      "text/plain": [
       "0       115712 understand would like assist would need...\n",
       "1                                      sprintcare propose\n",
       "2       sprintcare sent several private messages one r...\n",
       "3       115712 please send us private message assist c...\n",
       "4                                              sprintcare\n",
       "                              ...                        \n",
       "9995    microsofthelps link gives gibberish 2a0 tqo0­a...\n",
       "9996    118890 case kindly contact answer desk support...\n",
       "9997    microsofthelps windows 10 user noticed massive...\n",
       "9998    118890 12 internet service provider check anot...\n",
       "9999    microsofthelps dialup service provider stop wi...\n",
       "Name: text, Length: 10000, dtype: object"
      ]
     },
     "execution_count": 30,
     "metadata": {},
     "output_type": "execute_result"
    }
   ],
   "source": [
    "twdf['text']"
   ]
  },
  {
   "cell_type": "markdown",
   "metadata": {},
   "source": [
    "- stopwords have been removed\n",
    "\n",
    "### Emoji Removal\n",
    "\n",
    "- There are different ways of emoji removal.\n",
    "- First, by using the package, where the emoji will be converted into its text description.\n",
    "- Second, by manually creating a function and removing the emoji entirely.\n",
    "- We will implement the first method."
   ]
  },
  {
   "cell_type": "code",
   "execution_count": 32,
   "metadata": {},
   "outputs": [],
   "source": [
    "# importing the required package\n",
    "import emoji"
   ]
  },
  {
   "cell_type": "code",
   "execution_count": 33,
   "metadata": {},
   "outputs": [],
   "source": [
    "# creating a function using the above package\n",
    "def remove_emoji(text):\n",
    "    clean_text = emoji.demojize(text)\n",
    "    return clean_text"
   ]
  },
  {
   "cell_type": "code",
   "execution_count": 34,
   "metadata": {},
   "outputs": [
    {
     "data": {
      "text/plain": [
       "'Hello,:smiling_face_with_smiling_eyes: how are you today? :glowing_star:'"
      ]
     },
     "execution_count": 34,
     "metadata": {},
     "output_type": "execute_result"
    }
   ],
   "source": [
    "# we will try the above function on our custom sentence and then apply it on our dataset:\n",
    "\n",
    "# custom sentence:\n",
    "custom_sentence = \"Hello,😊 how are you today? 🌟\"\n",
    "\n",
    "remove_emoji(custom_sentence)\n",
    "\n",
    "# the emoji has been removed."
   ]
  },
  {
   "cell_type": "code",
   "execution_count": 35,
   "metadata": {},
   "outputs": [],
   "source": [
    "# applying the function on our dataset:\n",
    "\n",
    "twdf['text'] = twdf['text'].apply(remove_emoji)"
   ]
  },
  {
   "cell_type": "markdown",
   "metadata": {},
   "source": [
    "- remove_emoji function has been successfully applied to our dataset.\n",
    "\n",
    "### Stemming\n",
    "- For stemming we shall use the Porter Stemmer\n",
    "- We will use it on a custom sentence and then apply it on our dataset."
   ]
  },
  {
   "cell_type": "code",
   "execution_count": 37,
   "metadata": {},
   "outputs": [],
   "source": [
    "# importing the required libraries:\n",
    "from nltk.stem import PorterStemmer\n",
    "\n",
    "# creating the function:\n",
    "def stemming(text):\n",
    "    obj = PorterStemmer()\n",
    "    word_stem = [obj.stem(word) for word in text.split()]\n",
    "    return word_stem"
   ]
  },
  {
   "cell_type": "code",
   "execution_count": 38,
   "metadata": {},
   "outputs": [
    {
     "data": {
      "text/plain": [
       "['python',\n",
       " 'programm',\n",
       " 'often',\n",
       " 'tend',\n",
       " 'like',\n",
       " 'program',\n",
       " 'in',\n",
       " 'python',\n",
       " 'becaus',\n",
       " \"it'\",\n",
       " 'like',\n",
       " 'english.',\n",
       " 'we',\n",
       " 'call',\n",
       " 'peopl',\n",
       " 'who',\n",
       " 'program',\n",
       " 'in',\n",
       " 'python',\n",
       " 'pythonistas.']"
      ]
     },
     "execution_count": 38,
     "metadata": {},
     "output_type": "execute_result"
    }
   ],
   "source": [
    "# applying the above function on a custom sentence:\n",
    "\n",
    "sent = \"Python programmers often tend like programming in python because it's like english. We call people who program in python pythonistas.\"\n",
    "\n",
    "stemming(sent)\n",
    "\n",
    "# we can observe that stemming has been applied to our sentence successfully."
   ]
  },
  {
   "cell_type": "code",
   "execution_count": 39,
   "metadata": {},
   "outputs": [],
   "source": [
    "# applying stemming on our dataset:\n",
    "\n",
    "twdf['text'] = twdf['text'].apply(stemming)"
   ]
  },
  {
   "cell_type": "markdown",
   "metadata": {},
   "source": [
    "- stemming has been successfully applied on our dataset.\n",
    "\n",
    "### Lemmatization\n",
    "- For lemmatization we shall use the WordNetLemmatizer.\n",
    "- We will use it on a custom sentence and then apply it on our dataset."
   ]
  },
  {
   "cell_type": "code",
   "execution_count": 43,
   "metadata": {},
   "outputs": [
    {
     "name": "stderr",
     "output_type": "stream",
     "text": [
      "[nltk_data] Downloading package wordnet to\n",
      "[nltk_data]     C:\\Users\\DELL\\AppData\\Roaming\\nltk_data...\n",
      "[nltk_data]   Package wordnet is already up-to-date!\n"
     ]
    }
   ],
   "source": [
    "# importing the required library:\n",
    "from nltk.stem import WordNetLemmatizer\n",
    "nltk.download('wordnet')\n",
    "\n",
    "# creating a function for lemmatization:\n",
    "def lemmatization(text):\n",
    "    words=text.split()\n",
    "    lemmetizer=WordNetLemmatizer()\n",
    "    word_lemma=[lemmetizer.lemmatize(word) for word in words]\n",
    "    return word_lemma"
   ]
  },
  {
   "cell_type": "code",
   "execution_count": 44,
   "metadata": {},
   "outputs": [
    {
     "data": {
      "text/plain": [
       "['Python',\n",
       " 'programmer',\n",
       " 'often',\n",
       " 'tend',\n",
       " 'like',\n",
       " 'programming',\n",
       " 'in',\n",
       " 'python',\n",
       " 'because',\n",
       " \"it's\",\n",
       " 'like',\n",
       " 'english.',\n",
       " 'We',\n",
       " 'call',\n",
       " 'people',\n",
       " 'who',\n",
       " 'program',\n",
       " 'in',\n",
       " 'python',\n",
       " 'pythonistas.']"
      ]
     },
     "execution_count": 44,
     "metadata": {},
     "output_type": "execute_result"
    }
   ],
   "source": [
    "# applying the above function on a custom sentence:\n",
    "\n",
    "sent = \"Python programmers often tend like programming in python because it's like english. We call people who program in python pythonistas.\"\n",
    "\n",
    "lemmatization(sent)\n",
    "\n",
    "# we can observe that stemming has been applied to our sentence successfully.\n"
   ]
  },
  {
   "cell_type": "code",
   "execution_count": null,
   "metadata": {},
   "outputs": [],
   "source": [
    "# code to apply lemmatization to our dataset\n",
    "# we shall not apply it as stemming has already been appied\n",
    "\n",
    "'''\n",
    "twdf['text'] = twdf['text'].apply(lemmatization)\n",
    "\n",
    "'''\n"
   ]
  },
  {
   "cell_type": "markdown",
   "metadata": {},
   "source": [
    "- lemmatization has been successfully applied to our dataset.\n",
    "- if we compare application of stemming and lemmatization on our custom sentence, we can observe how differently they work."
   ]
  },
  {
   "cell_type": "markdown",
   "metadata": {},
   "source": [
    "Thus, we have applied many text preprocessing techniques, if required depending upon the data we can apply few other techniques as well."
   ]
  },
  {
   "cell_type": "code",
   "execution_count": null,
   "metadata": {},
   "outputs": [],
   "source": []
  },
  {
   "cell_type": "code",
   "execution_count": null,
   "metadata": {},
   "outputs": [],
   "source": []
  }
 ],
 "metadata": {
  "kernelspec": {
   "display_name": "Python 3",
   "language": "python",
   "name": "python3"
  },
  "language_info": {
   "codemirror_mode": {
    "name": "ipython",
    "version": 3
   },
   "file_extension": ".py",
   "mimetype": "text/x-python",
   "name": "python",
   "nbconvert_exporter": "python",
   "pygments_lexer": "ipython3",
   "version": "3.9.0"
  }
 },
 "nbformat": 4,
 "nbformat_minor": 2
}
